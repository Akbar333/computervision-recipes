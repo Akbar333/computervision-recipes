{
 "cells": [
  {
   "cell_type": "markdown",
   "metadata": {},
   "source": [
    "<i>Copyright (c) Microsoft Corporation. All rights reserved.</i>\n",
    "\n",
    "<i>Licensed under the MIT License.</i>"
   ]
  },
  {
   "cell_type": "markdown",
   "metadata": {},
   "source": [
    "# Accuracy on SOTA datasets \n",
    "\n",
    "We showed in the [01_training_and_evaluation_introduction](01_training_and_evaluation_introduction.ipynb) notebook how to train a DNN and use its feature embedding for image retrieval. In that notebook, the DNN was trained using a standard image classification loss.\n",
    "\n",
    "More accurate similarity measures are typically based on DNNs which are trained explicitly for image similarity using Triplet Learning such as the [FaceNet](https://arxiv.org/pdf/1503.03832.pdf) paper. While these approaches achieve good accuracy, they are conceptually more complex, slower, and more difficult to train/converge due to issue such as how to mine relevant triplets.\n",
    "\n",
    "A recent paper from BMVC 2019 titled \"[Classification is a Strong Baseline for Deep Metric Learning](https://arxiv.org/abs/1811.12649)\" argues that this extra overhead is not necessary. Indeed, by making small changes to standard classification DNNs, the authors achieve results which are better than the state-of-the-art on three common datasets (CARS196, CUB200-2011, SOP).\n",
    "\n",
    "This notebook implements the paper, and reproduces reported results.\n",
    "\n",
    "\n",
    "### Dataset-specific setups:\n",
    "\n",
    "We follow the literature closely when setting up our experiments. See https://arxiv.org/abs/1511.06452:\n",
    "\n",
    "- CUB200-2011 dataset: \n",
    "   - all images in `data_rank` are used as both the query set and the gallery set. \n",
    "   - The images within the first 100 of the 200 classes from the dataset are used for training the DNN, the remaining 100 classes are used to compute Recall@K.\n",
    "\n",
    "- CARS196: \n",
    "   - The images within the first 98 of the 196 classes from the dataset are used for training the DNN, the remaining 98 classes are used to compute Recall@K."
   ]
  },
  {
   "cell_type": "markdown",
   "metadata": {},
   "source": [
    "## Initialization"
   ]
  },
  {
   "cell_type": "code",
   "execution_count": 1,
   "metadata": {},
   "outputs": [],
   "source": [
    "# Ensure edits to libraries are loaded and plotting is shown in the notebook.\n",
    "%matplotlib inline\n",
    "%reload_ext autoreload\n",
    "%autoreload 2"
   ]
  },
  {
   "cell_type": "code",
   "execution_count": 2,
   "metadata": {},
   "outputs": [],
   "source": [
    "# Regular python libraries\n",
    "import sys\n",
    "import numpy as np\n",
    "from pathlib import Path\n",
    "import random\n",
    "\n",
    "import scrapbook as sb\n",
    "\n",
    "# fast.ai\n",
    "import fastai\n",
    "from fastai.vision import (\n",
    "    accuracy,\n",
    "    cnn_learner,\n",
    "    DatasetType,\n",
    "    ImageList,\n",
    "    imagenet_stats,\n",
    "    models,\n",
    "    partial,\n",
    ")\n",
    "\n",
    "# Computer Vision repository\n",
    "sys.path.extend([\".\", \"../..\"])  # to access the utils_cv library\n",
    "from utils_cv.classification.data import Urls\n",
    "from utils_cv.classification.model import TrainMetricsRecorder\n",
    "from utils_cv.common.data import unzip_url\n",
    "from utils_cv.common.gpu import which_processor, db_num_workers\n",
    "from utils_cv.similarity.data import comparative_set_builder\n",
    "from utils_cv.similarity.metrics import (\n",
    "    compute_distances,\n",
    "    positive_image_ranks,\n",
    "    recall_at_k,\n",
    ")\n",
    "from utils_cv.similarity.model import compute_features, compute_features_learner\n",
    "from utils_cv.similarity.plot import (\n",
    "    plot_comparative_set,\n",
    "    plot_distances,\n",
    "    plot_ranks_distribution,\n",
    "    plot_recalls,\n",
    ")"
   ]
  },
  {
   "cell_type": "code",
   "execution_count": 3,
   "metadata": {},
   "outputs": [
    {
     "name": "stdout",
     "output_type": "stream",
     "text": [
      "Fast.ai version = 1.0.57\n",
      "Torch is using GPU: Tesla V100-PCIE-16GB\n"
     ]
    }
   ],
   "source": [
    "print(f\"Fast.ai version = {fastai.__version__}\")\n",
    "which_processor()"
   ]
  },
  {
   "cell_type": "markdown",
   "metadata": {},
   "source": [
    "## Data preparation\n",
    "We use popular datasets such as CUB-200-2011 or Cars196. These datasets come with a predefine split into training (used to refine the DNN) and into testing (used to compute Recall@K metric). Not that the train and test sets typically do not share any classes."
   ]
  },
  {
   "cell_type": "code",
   "execution_count": 4,
   "metadata": {
    "tags": [
     "parameters"
    ]
   },
   "outputs": [],
   "source": [
    "# Set dataset, model and evaluation parameters\n",
    "#DATA_FINETUNE_PATH = \"/home/pabuehle/Desktop/data/cub_200_2011/train\"\n",
    "#DATA_RANKING_PATH = \"/home/pabuehle/Desktop/data/cub_200_2011/test\"\n",
    "DATA_FINETUNE_PATH = \"/home/pabuehle/Desktop/data/cars196/train\"\n",
    "DATA_RANKING_PATH = \"/home/pabuehle/Desktop/data/cars196/test\"\n",
    "#DATA_FINETUNE_PATH = \"C:/Users/pabuehle/Desktop/data/cub_200_2011_subset3/train\"\n",
    "#DATA_RANKING_PATH = \"C:/Users/pabuehle/Desktop/data/cub_200_2011_subset3/test\"\n",
    "#DATA_FINETUNE_PATH = \"C:/Users/pabuehle/Desktop/data/cub_200_2011/train\"\n",
    "#DATA_RANKING_PATH = \"C:/Users/pabuehle/Desktop/data/cub_200_2011/test\"\n",
    "\n",
    "# DNN configuration and learning parameters\n",
    "EPOCHS_HEAD = 4\n",
    "EPOCHS_BODY = 24\n",
    "LEARNING_RATE = 10* 1e-4\n",
    "BATCH_SIZE = 16\n",
    "ARCHITECTURE = models.resnet50 # models.resnet18\n",
    "IM_SIZE = 224 #300\n",
    "DROPOUT = 0 \n",
    "EMBEDDING_DIM = 512 #2048 #512\n",
    "\n",
    "# Proposed in BMVC 2019 paper: \"Classification is a Strong Baseline for Deep Metric Learning\"\n",
    "use_norm_softmax_loss = True \n",
    "\n",
    "TEMPERATURE = 0.05"
   ]
  },
  {
   "cell_type": "markdown",
   "metadata": {},
   "source": [
    "We can now build our training data object, and split it to get a certain percentage (here 20%) assigned to a validation set."
   ]
  },
  {
   "cell_type": "code",
   "execution_count": 5,
   "metadata": {},
   "outputs": [
    {
     "name": "stdout",
     "output_type": "stream",
     "text": [
      "\\FINE-TUNING:\n",
      "Training set: 7813 images\n",
      "Validation set: 241 images\n"
     ]
    }
   ],
   "source": [
    "# Load images into fast.ai's ImageDataBunch object\n",
    "random.seed(642)\n",
    "data_finetune = (\n",
    "    ImageList.from_folder(DATA_FINETUNE_PATH)\n",
    "    .split_by_rand_pct(valid_pct=0.03, seed=20) # Keep a few validation images to estimate validation loss \n",
    "    #.split_none()\n",
    "    .label_from_folder()\n",
    "    .transform(tfms=fastai.vision.transform.get_transforms(), size=IM_SIZE)\n",
    "    .databunch(bs=BATCH_SIZE, num_workers = db_num_workers())\n",
    "    .normalize(imagenet_stats)\n",
    ")\n",
    "\n",
    "print(f\"\"\"\\FINE-TUNING:\n",
    "Training set: {len(data_finetune.train_ds.x)} images\n",
    "Validation set: {len(data_finetune.valid_ds.x)} images\\\n",
    "\"\"\"\n",
    ")"
   ]
  },
  {
   "cell_type": "markdown",
   "metadata": {},
   "source": [
    "## Classification model fine-tuning\n",
    "\n",
    "We begin by retrieving a [ResNet18](https://arxiv.org/pdf/1512.03385.pdf) CNN from fast.ai's library which is pre-trained on ImageNet, and fine-tune the model on our training set. We use the same training parameters and take the same approach as what we did in our [classification notebooks](https://github.com/microsoft/ComputerVision/tree/master/classification/notebooks), training first the (new) last layer only, and then the full DNN.\n",
    "\n",
    "Note how we train the DNN here on an image classification task but will use it as featurizer later for image similarity."
   ]
  },
  {
   "cell_type": "code",
   "execution_count": 6,
   "metadata": {},
   "outputs": [],
   "source": [
    "learn = cnn_learner(\n",
    "    data_finetune,\n",
    "    ARCHITECTURE,\n",
    "    metrics=[],\n",
    "    ps=DROPOUT #Leave dropout at zero. Higher values tend to perform significantly worse\n",
    ")"
   ]
  },
  {
   "cell_type": "code",
   "execution_count": 7,
   "metadata": {},
   "outputs": [
    {
     "name": "stdout",
     "output_type": "stream",
     "text": [
      "Using torch device: cuda\n"
     ]
    }
   ],
   "source": [
    "import math\n",
    "import torch\n",
    "import torch.nn as nn\n",
    "from fastai.layers import FlattenedLoss\n",
    "from IPython.core.debugger import set_trace\n",
    "\n",
    "NUMBER_CLASSES = len(data_finetune.classes)\n",
    "FEATURE_DIM = learn.model[1][-1].in_features\n",
    "#device = torch.device(\"cuda\") if torch.cuda.is_available() else torch.device(\"cpu\")\n",
    "device = fastai.torch_core.defaults.device\n",
    "print(f\"Using torch device: {device}\")\n",
    "\n",
    "\n",
    "# Copied and slightly modified from: \n",
    "# https://github.com/azgo14/classification_metric_learning\n",
    "class NormSoftmaxLoss(nn.Module):\n",
    "    \"\"\"\n",
    "    L2 normalize weights and apply temperature scaling on logits.\n",
    "    \"\"\"\n",
    "\n",
    "    def __init__(self, dim=EMBEDDING_DIM, num_instances=NUMBER_CLASSES, temperature=TEMPERATURE):\n",
    "        super(NormSoftmaxLoss, self).__init__() \n",
    "        self.weight = nn.Parameter(torch.Tensor(num_instances, dim)).cuda(device)\n",
    "        # Initialization from nn.Linear (https://github.com/pytorch/pytorch/blob/v1.0.0/torch/nn/modules/linear.py#L129)\n",
    "        stdv = 1. / math.sqrt(self.weight.size(1))\n",
    "        self.weight.data.uniform_(-stdv, stdv)\n",
    "        self.temperature = temperature\n",
    "        self.loss_fn = nn.CrossEntropyLoss()\n",
    " \n",
    "    def forward(self, embeddings, instance_targets):\n",
    "        #norm_emb = nn.functional.normalize(embeddings, dim=1)\n",
    "        norm_weight = nn.functional.normalize(self.weight, dim=1)\n",
    "        prediction_logits = nn.functional.linear(embeddings, norm_weight)\n",
    "        loss = self.loss_fn(prediction_logits / self.temperature, instance_targets)\n",
    "        return loss\n",
    "    \n",
    "class EmbeddedFeatureWrapper(nn.Module):\n",
    "    def __init__(self, input_dim=FEATURE_DIM, output_dim=EMBEDDING_DIM):\n",
    "        super(EmbeddedFeatureWrapper, self).__init__()\n",
    "        self.standardize = nn.LayerNorm(input_dim, elementwise_affine = False)\n",
    "        self.remap = None\n",
    "        if input_dim != output_dim:\n",
    "           self.remap = nn.Linear(input_dim, output_dim, bias = False).cuda(device)\n",
    "        \n",
    "    def forward(self, x):\n",
    "        x = x.view(x.size(0), -1)\n",
    "        x = self.standardize(x)\n",
    "        if self.remap:\n",
    "           x = self.remap(x)\n",
    "        x = nn.functional.normalize(x, dim=1)\n",
    "        return x"
   ]
  },
  {
   "cell_type": "code",
   "execution_count": 8,
   "metadata": {},
   "outputs": [
    {
     "name": "stdout",
     "output_type": "stream",
     "text": [
      "** Before model modification **\n",
      "Sequential(\n",
      "  (0): AdaptiveConcatPool2d(\n",
      "    (ap): AdaptiveAvgPool2d(output_size=1)\n",
      "    (mp): AdaptiveMaxPool2d(output_size=1)\n",
      "  )\n",
      "  (1): Flatten()\n",
      "  (2): BatchNorm1d(4096, eps=1e-05, momentum=0.1, affine=True, track_running_stats=True)\n",
      "  (3): Linear(in_features=4096, out_features=512, bias=True)\n",
      "  (4): ReLU(inplace=True)\n",
      "  (5): BatchNorm1d(512, eps=1e-05, momentum=0.1, affine=True, track_running_stats=True)\n",
      "  (6): Linear(in_features=512, out_features=98, bias=True)\n",
      ")\n",
      "\n",
      "** After model modification **\n",
      "Sequential(\n",
      "  (0): AdaptiveConcatPool2d(\n",
      "    (ap): AdaptiveAvgPool2d(output_size=1)\n",
      "    (mp): AdaptiveMaxPool2d(output_size=1)\n",
      "  )\n",
      "  (1): Flatten()\n",
      "  (2): BatchNorm1d(4096, eps=1e-05, momentum=0.1, affine=True, track_running_stats=True)\n",
      "  (3): Linear(in_features=4096, out_features=512, bias=True)\n",
      "  (4): ReLU(inplace=True)\n",
      "  (5): BatchNorm1d(512, eps=1e-05, momentum=0.1, affine=True, track_running_stats=True)\n",
      "  (6): EmbeddedFeatureWrapper(\n",
      "    (standardize): LayerNorm((512,), eps=1e-05, elementwise_affine=False)\n",
      "  )\n",
      ")\n"
     ]
    }
   ],
   "source": [
    "if use_norm_softmax_loss:\n",
    "    # Update loss function from section 3.2 in the paper\n",
    "    learn.loss_func = FlattenedLoss(NormSoftmaxLoss)\n",
    "    \n",
    "    # This next code line achieves two things:\n",
    "    # (1) Remove last fc layer so that input to loss function is the DNN feature, e.g. 512 dimensional.\n",
    "    # (2) Instead, add normalization which is referred to in the paper in section 3.2\n",
    "    #learn.model[1][6] = nn.LayerNorm(FEATURE_DIM, elementwise_affine=False)\n",
    "    #learn.model[1][6] = nn.Identity()\n",
    "    \n",
    "    #modules = []\n",
    "    #modules.append(learn.model[1][0])\n",
    "    #modules.append(learn.model[1][1])\n",
    "    #modules.append(learn.model[1][2])\n",
    "    #modules.append(learn.model[1][3])\n",
    "    #modules.append(learn.model[1][4])\n",
    "    #modules.append(learn.model[1][5])\n",
    "    #for l in learn.model[1][:-1]:\n",
    "    #    modules.append(l)\n",
    "    \n",
    "    print(\"** Before model modification **\")\n",
    "    print(learn.model[1])\n",
    "    \n",
    "    modules = [l for l in learn.model[1][:-1]]\n",
    "    modules.append(EmbeddedFeatureWrapper())\n",
    "    learn.model[1] = torch.nn.Sequential(*modules)\n",
    "    \n",
    "    print(\"\\n** After model modification **\")\n",
    "    print(learn.model[1])"
   ]
  },
  {
   "cell_type": "markdown",
   "metadata": {},
   "source": [
    "### Run DNN training"
   ]
  },
  {
   "cell_type": "code",
   "execution_count": 9,
   "metadata": {},
   "outputs": [
    {
     "data": {
      "text/html": [
       "<table border=\"1\" class=\"dataframe\">\n",
       "  <thead>\n",
       "    <tr style=\"text-align: left;\">\n",
       "      <th>epoch</th>\n",
       "      <th>train_loss</th>\n",
       "      <th>valid_loss</th>\n",
       "      <th>time</th>\n",
       "    </tr>\n",
       "  </thead>\n",
       "  <tbody>\n",
       "    <tr>\n",
       "      <td>0</td>\n",
       "      <td>2.715620</td>\n",
       "      <td>3.270289</td>\n",
       "      <td>01:16</td>\n",
       "    </tr>\n",
       "    <tr>\n",
       "      <td>1</td>\n",
       "      <td>1.952567</td>\n",
       "      <td>1.797992</td>\n",
       "      <td>01:13</td>\n",
       "    </tr>\n",
       "    <tr>\n",
       "      <td>2</td>\n",
       "      <td>1.200914</td>\n",
       "      <td>0.923750</td>\n",
       "      <td>01:15</td>\n",
       "    </tr>\n",
       "    <tr>\n",
       "      <td>3</td>\n",
       "      <td>0.842704</td>\n",
       "      <td>0.716156</td>\n",
       "      <td>01:14</td>\n",
       "    </tr>\n",
       "  </tbody>\n",
       "</table>"
      ],
      "text/plain": [
       "<IPython.core.display.HTML object>"
      ]
     },
     "metadata": {},
     "output_type": "display_data"
    }
   ],
   "source": [
    "# Train the last layer using a larger rate since most of the DNN is fixed.\n",
    "learn.fit_one_cycle(EPOCHS_HEAD, 10* LEARNING_RATE) #, callbacks = [MyCallback()])"
   ]
  },
  {
   "cell_type": "markdown",
   "metadata": {},
   "source": [
    "Let's now unfreeze all the layers and fine-tuning the model more\n"
   ]
  },
  {
   "cell_type": "code",
   "execution_count": 10,
   "metadata": {},
   "outputs": [
    {
     "data": {
      "text/html": [
       "<table border=\"1\" class=\"dataframe\">\n",
       "  <thead>\n",
       "    <tr style=\"text-align: left;\">\n",
       "      <th>epoch</th>\n",
       "      <th>train_loss</th>\n",
       "      <th>valid_loss</th>\n",
       "      <th>time</th>\n",
       "    </tr>\n",
       "  </thead>\n",
       "  <tbody>\n",
       "    <tr>\n",
       "      <td>0</td>\n",
       "      <td>0.848147</td>\n",
       "      <td>0.769881</td>\n",
       "      <td>01:22</td>\n",
       "    </tr>\n",
       "    <tr>\n",
       "      <td>1</td>\n",
       "      <td>1.026578</td>\n",
       "      <td>0.992483</td>\n",
       "      <td>01:19</td>\n",
       "    </tr>\n",
       "    <tr>\n",
       "      <td>2</td>\n",
       "      <td>1.276175</td>\n",
       "      <td>1.490222</td>\n",
       "      <td>01:20</td>\n",
       "    </tr>\n",
       "    <tr>\n",
       "      <td>3</td>\n",
       "      <td>1.318777</td>\n",
       "      <td>1.306957</td>\n",
       "      <td>01:23</td>\n",
       "    </tr>\n",
       "    <tr>\n",
       "      <td>4</td>\n",
       "      <td>1.307003</td>\n",
       "      <td>1.698943</td>\n",
       "      <td>01:23</td>\n",
       "    </tr>\n",
       "    <tr>\n",
       "      <td>5</td>\n",
       "      <td>1.209339</td>\n",
       "      <td>1.277952</td>\n",
       "      <td>01:22</td>\n",
       "    </tr>\n",
       "    <tr>\n",
       "      <td>6</td>\n",
       "      <td>1.052162</td>\n",
       "      <td>1.245513</td>\n",
       "      <td>01:23</td>\n",
       "    </tr>\n",
       "    <tr>\n",
       "      <td>7</td>\n",
       "      <td>0.904335</td>\n",
       "      <td>0.877827</td>\n",
       "      <td>01:24</td>\n",
       "    </tr>\n",
       "    <tr>\n",
       "      <td>8</td>\n",
       "      <td>0.768715</td>\n",
       "      <td>0.737397</td>\n",
       "      <td>01:24</td>\n",
       "    </tr>\n",
       "    <tr>\n",
       "      <td>9</td>\n",
       "      <td>0.653678</td>\n",
       "      <td>0.778536</td>\n",
       "      <td>01:23</td>\n",
       "    </tr>\n",
       "    <tr>\n",
       "      <td>10</td>\n",
       "      <td>0.551600</td>\n",
       "      <td>0.637220</td>\n",
       "      <td>01:25</td>\n",
       "    </tr>\n",
       "    <tr>\n",
       "      <td>11</td>\n",
       "      <td>0.502224</td>\n",
       "      <td>0.550077</td>\n",
       "      <td>01:24</td>\n",
       "    </tr>\n",
       "    <tr>\n",
       "      <td>12</td>\n",
       "      <td>0.436343</td>\n",
       "      <td>0.510007</td>\n",
       "      <td>01:25</td>\n",
       "    </tr>\n",
       "    <tr>\n",
       "      <td>13</td>\n",
       "      <td>0.373058</td>\n",
       "      <td>0.418688</td>\n",
       "      <td>01:24</td>\n",
       "    </tr>\n",
       "    <tr>\n",
       "      <td>14</td>\n",
       "      <td>0.324922</td>\n",
       "      <td>0.379620</td>\n",
       "      <td>01:24</td>\n",
       "    </tr>\n",
       "    <tr>\n",
       "      <td>15</td>\n",
       "      <td>0.266757</td>\n",
       "      <td>0.426953</td>\n",
       "      <td>01:24</td>\n",
       "    </tr>\n",
       "    <tr>\n",
       "      <td>16</td>\n",
       "      <td>0.206118</td>\n",
       "      <td>0.399524</td>\n",
       "      <td>01:24</td>\n",
       "    </tr>\n",
       "    <tr>\n",
       "      <td>17</td>\n",
       "      <td>0.153798</td>\n",
       "      <td>0.400774</td>\n",
       "      <td>01:24</td>\n",
       "    </tr>\n",
       "    <tr>\n",
       "      <td>18</td>\n",
       "      <td>0.133622</td>\n",
       "      <td>0.330406</td>\n",
       "      <td>01:23</td>\n",
       "    </tr>\n",
       "    <tr>\n",
       "      <td>19</td>\n",
       "      <td>0.115479</td>\n",
       "      <td>0.353715</td>\n",
       "      <td>01:23</td>\n",
       "    </tr>\n",
       "    <tr>\n",
       "      <td>20</td>\n",
       "      <td>0.089107</td>\n",
       "      <td>0.369622</td>\n",
       "      <td>01:23</td>\n",
       "    </tr>\n",
       "    <tr>\n",
       "      <td>21</td>\n",
       "      <td>0.086023</td>\n",
       "      <td>0.341576</td>\n",
       "      <td>01:23</td>\n",
       "    </tr>\n",
       "    <tr>\n",
       "      <td>22</td>\n",
       "      <td>0.084251</td>\n",
       "      <td>0.341851</td>\n",
       "      <td>01:23</td>\n",
       "    </tr>\n",
       "    <tr>\n",
       "      <td>23</td>\n",
       "      <td>0.089103</td>\n",
       "      <td>0.329976</td>\n",
       "      <td>01:23</td>\n",
       "    </tr>\n",
       "  </tbody>\n",
       "</table>"
      ],
      "text/plain": [
       "<IPython.core.display.HTML object>"
      ]
     },
     "metadata": {},
     "output_type": "display_data"
    }
   ],
   "source": [
    "learn.unfreeze()\n",
    "learn.fit_one_cycle(EPOCHS_BODY, LEARNING_RATE)"
   ]
  },
  {
   "cell_type": "markdown",
   "metadata": {},
   "source": [
    "## Feature extraction"
   ]
  },
  {
   "cell_type": "markdown",
   "metadata": {},
   "source": [
    "We now load the ranking set and extract the DNN features for each image "
   ]
  },
  {
   "cell_type": "code",
   "execution_count": 11,
   "metadata": {},
   "outputs": [
    {
     "name": "stdout",
     "output_type": "stream",
     "text": [
      "\\FINE-TUNING:\n",
      "Training set: 8131 images\n",
      "Validation set: 1 images\n"
     ]
    }
   ],
   "source": [
    "# Load images into fast.ai's ImageDataBunch object\n",
    "data_rank = (\n",
    "    ImageList.from_folder(DATA_RANKING_PATH)\n",
    "    .split_none()\n",
    "    #.split_by_rand_pct(valid_pct=1.0)\n",
    "    .label_from_folder()\n",
    "    .transform(size=IM_SIZE)\n",
    "    .databunch(bs=BATCH_SIZE, num_workers = db_num_workers())\n",
    "    .normalize(imagenet_stats)\n",
    ")\n",
    "\n",
    "print(f\"\"\"\\FINE-TUNING:\n",
    "Training set: {len(data_rank.train_ds.x)} images\n",
    "Validation set: {len(data_rank.valid_ds.x)} images\\\n",
    "\"\"\"\n",
    ")\n",
    "\n",
    "# Display example images\n",
    "#data_rank.show_batch(rows=3, figsize=(6, 6))"
   ]
  },
  {
   "cell_type": "markdown",
   "metadata": {},
   "source": [
    "The following line will allow us to extract the penultimate layer (ie 512 floating points vector) after running an image  through the model."
   ]
  },
  {
   "cell_type": "code",
   "execution_count": 12,
   "metadata": {},
   "outputs": [
    {
     "name": "stdout",
     "output_type": "stream",
     "text": [
      "Sequential(\n",
      "  (0): AdaptiveConcatPool2d(\n",
      "    (ap): AdaptiveAvgPool2d(output_size=1)\n",
      "    (mp): AdaptiveMaxPool2d(output_size=1)\n",
      "  )\n",
      "  (1): Flatten()\n",
      "  (2): BatchNorm1d(4096, eps=1e-05, momentum=0.1, affine=True, track_running_stats=True)\n",
      "  (3): Linear(in_features=4096, out_features=512, bias=True)\n",
      "  (4): ReLU(inplace=True)\n",
      "  (5): BatchNorm1d(512, eps=1e-05, momentum=0.1, affine=True, track_running_stats=True)\n",
      "  (6): EmbeddedFeatureWrapper(\n",
      "    (standardize): LayerNorm((512,), eps=1e-05, elementwise_affine=False)\n",
      "  )\n",
      ")\n"
     ]
    }
   ],
   "source": [
    "# Use last layer as image representation\n",
    "if use_norm_softmax_loss:\n",
    "    embedding_layer = learn.model[1]\n",
    "else:\n",
    "    embedding_layer = learn.model[1][-2] \n",
    "print(embedding_layer)"
   ]
  },
  {
   "cell_type": "code",
   "execution_count": 13,
   "metadata": {},
   "outputs": [],
   "source": [
    "#Compute DNN features for all validation images\n",
    "dnn_features = compute_features_learner(data_rank, DatasetType.Train, learn, embedding_layer)"
   ]
  },
  {
   "cell_type": "markdown",
   "metadata": {},
   "source": [
    "## Image Retrieval Example\n",
    "The cell below shows how to find and display the most similar images in the validation set for a given query image (which we also select from the validation set). This example is similar to the one shown in the [00_webcam.ipynb](https://github.com/microsoft/ComputerVision/tree/master/similarity/notebooks/00_webcam.ipynb) notebook. "
   ]
  },
  {
   "cell_type": "code",
   "execution_count": 14,
   "metadata": {},
   "outputs": [
    {
     "name": "stdout",
     "output_type": "stream",
     "text": [
      "Query image path: /home/pabuehle/Desktop/data/cars196/test/GMC Terrain SUV 2012/009689.jpg\n",
      "Query feature dimension: 512\n"
     ]
    },
    {
     "data": {
      "image/png": "[encoded data removed]",
      "text/plain": [
       "<Figure size 1080x360 with 7 Axes>"
      ]
     },
     "metadata": {
      "needs_background": "light"
     },
     "output_type": "display_data"
    }
   ],
   "source": [
    "# Get the DNN feature for the query image\n",
    "query_im_path =  str(data_rank.train_ds.items[1])\n",
    "query_feature = dnn_features[query_im_path]\n",
    "print(f\"Query image path: {query_im_path}\")\n",
    "print(f\"Query feature dimension: {len(query_feature)}\")\n",
    "assert len(query_feature) == EMBEDDING_DIM\n",
    "\n",
    "# Compute the distances between the query and all reference images\n",
    "distances = compute_distances(query_feature, dnn_features)\n",
    "plot_distances(distances, num_rows=1, num_cols=7, figsize=(15,5))"
   ]
  },
  {
   "cell_type": "markdown",
   "metadata": {},
   "source": [
    "## Quantitative evaluation\n",
    "\n",
    "Our approach for quantitative evaluation is as follows:\n",
    "- We extract the features of each query image in the query set, and search the K most similar images in the gallery set. \n",
    "- If one of the K retrieved images have the same label with the query image, then that increases recall."
   ]
  },
  {
   "cell_type": "code",
   "execution_count": 15,
   "metadata": {},
   "outputs": [
    {
     "name": "stdout",
     "output_type": "stream",
     "text": [
      "11 8131\n",
      "1111 8131\n",
      "2211 8131\n",
      "3311 8131\n",
      "4411 8131\n",
      "5511 8131\n",
      "6611 8131\n",
      "7711 8131\n",
      "611 740\n"
     ]
    }
   ],
   "source": [
    "#init\n",
    "rank1_count = 0\n",
    "labels = data_rank.train_ds.y\n",
    "#im_paths = [str(s) for s in list(data_rank.train_ds.items)]\n",
    "im_paths = data_rank.train_ds.items\n",
    "assert len(labels) == len(im_paths) == len(dnn_features)\n",
    "\n",
    "query_indices = range(len(im_paths))[::11] #only use every nth image to speed up accuracy computation\n",
    "\n",
    "# Loop over all images and use as query image once\n",
    "for query_index in query_indices:\n",
    "    if query_index % 1100 == 11:\n",
    "        print(query_index, len(im_paths))\n",
    "\n",
    "    # Get query information\n",
    "    query_im_path =  str(im_paths[query_index])\n",
    "    query_feature = dnn_features[query_im_path]\n",
    "    \n",
    "    # Compute distance to all images in the gallery set\n",
    "    # L2-normalizes all embeddings before computing the L2 distance.\n",
    "    # Note that the ranking is identical to setting `method = \"cosine\"` in the function below)\n",
    "    # (See: https://en.wikipedia.org/wiki/Cosine_similarity)\n",
    "    distances = compute_distances(query_feature, dnn_features) #, method = \"cosine\")\n",
    "\n",
    "    # Find the smallest distance\n",
    "    minDist = float('inf')\n",
    "    minDistIndex = None\n",
    "    for index, distance in enumerate(distances):\n",
    "        if index == query_index: #ignore the query image itself\n",
    "            continue\n",
    "\n",
    "        if distance[1] < minDist:\n",
    "            minDist = distance[1]\n",
    "            minDistIndex = index\n",
    "\n",
    "    # Compute rank\n",
    "    if labels[query_index] == labels[minDistIndex]:\n",
    "        rank1_count += 1\n",
    "        \n",
    "print(rank1_count, len(query_indices))"
   ]
  },
  {
   "cell_type": "code",
   "execution_count": 16,
   "metadata": {},
   "outputs": [
    {
     "name": "stdout",
     "output_type": "stream",
     "text": [
      "Recall@1 accuracy = 82.57\n"
     ]
    }
   ],
   "source": [
    "print(\"Recall@1 accuracy = {:2.2f}\".format(100.0 * rank1_count / len(query_indices)))"
   ]
  },
  {
   "cell_type": "code",
   "execution_count": 17,
   "metadata": {},
   "outputs": [],
   "source": [
    "# Log some outputs using scrapbook which are used during testing to verify correct notebook execution\n",
    "#sb.glue(\"median_rank\", median_rank)\n",
    "#sb.glue(\"random_rank\", random_rank)"
   ]
  },
  {
   "cell_type": "markdown",
   "metadata": {},
   "source": [
    "# Appendix\n",
    "### Example how to use callbacks"
   ]
  },
  {
   "cell_type": "code",
   "execution_count": 18,
   "metadata": {},
   "outputs": [],
   "source": [
    "# from fastai.callback import Callback\n",
    "# from IPython.core.debugger import set_trace          \n",
    "              \n",
    "# class MyCallback():\n",
    "#     \"Base class for callbacks that want to record values, dynamically change learner params, etc.\"\n",
    "#     _order=0\n",
    "#     def on_train_begin(self, **kwargs)->None:\n",
    "#         \"To initialize constants in the callback.\"\n",
    "#         pass\n",
    "#     def on_epoch_begin(self, **kwargs)->None:  \n",
    "#         \"At the beginning of each epoch.\"\n",
    "#         pass\n",
    "    \n",
    "    \n",
    "#     def on_batch_begin(self, **kwargs)->None:\n",
    "#         \"Set HP before the output and loss are computed.\"\n",
    "#         pass\n",
    "    \n",
    "    \n",
    "#     def on_loss_begin(self, last_output, **kwargs)->None:\n",
    "#         \"Called after forward pass but before loss has been computed.\"\n",
    "#         #last_input == RGB image normalized\n",
    "#         #x = nn.functional.normalize(x, dim=1)\n",
    "#         #print(kwargs)\n",
    "#         #print(last_output)\n",
    "#         #set_trace()\n",
    "#         #last_output = 100*last_output\n",
    "#         pass\n",
    "              \n",
    "#     def on_backward_begin(self, **kwargs)->None:\n",
    "#         \"Called after the forward pass and the loss has been computed, but before backprop.\"\n",
    "#         pass\n",
    "#     def on_backward_end(self, **kwargs)->None:\n",
    "#         \"Called after backprop but before optimizer step. Useful for true weight decay in AdamW.\"\n",
    "#         pass\n",
    "#     def on_step_end(self, **kwargs)->None:\n",
    "#         \"Called after the step of the optimizer but before the gradients are zeroed.\"\n",
    "#         pass\n",
    "#     def on_batch_end(self, **kwargs)->None:\n",
    "#         \"Called at the end of the batch.\"\n",
    "#         pass\n",
    "#     def on_epoch_end(self, **kwargs)->None:\n",
    "#         \"Called at the end of an epoch.\"\n",
    "#         pass\n",
    "#     def on_train_end(self, **kwargs)->None:\n",
    "#         \"Useful for cleaning up things and saving files/models.\"\n",
    "#         pass"
   ]
  },
  {
   "cell_type": "markdown",
   "metadata": {},
   "source": [
    "### HACK TO DEACTIVATE BIAS IN LAST FC LAYER\n",
    "\n",
    "Hack: edit function bn_drop_lin() in /anaconda/envs/cv/lib/python3.6/site-packages/fastai/layers.py\n",
    "- Replace\n",
    "        layers.append(nn.Linear(n_in, n_out))\n",
    "- With: \n",
    "        if n_in != 512:\n",
    "            layers.append(nn.Linear(n_in, n_out))\n",
    "        else:\n",
    "            print(\"WARNING: SETTING BIAS TO FALSE IN bn_drop_lin\")\n",
    "            layers.append(nn.Linear(n_in, n_out, bias = False))"
   ]
  },
  {
   "cell_type": "code",
   "execution_count": null,
   "metadata": {},
   "outputs": [],
   "source": []
  }
 ],
 "metadata": {
  "kernelspec": {
   "display_name": "Python (cv)",
   "language": "python",
   "name": "cv"
  },
  "language_info": {
   "codemirror_mode": {
    "name": "ipython",
    "version": 3
   },
   "file_extension": ".py",
   "mimetype": "text/x-python",
   "name": "python",
   "nbconvert_exporter": "python",
   "pygments_lexer": "ipython3",
   "version": "3.6.8"
  }
 },
 "nbformat": 4,
 "nbformat_minor": 2
}
